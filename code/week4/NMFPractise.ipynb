{
  "nbformat": 4,
  "nbformat_minor": 0,
  "metadata": {
    "colab": {
      "name": "NMFPractise.ipynb",
      "provenance": [],
      "authorship_tag": "ABX9TyPi5lLUoEX8UQjh283JtPvS",
      "include_colab_link": true
    },
    "kernelspec": {
      "name": "python3",
      "display_name": "Python 3"
    }
  },
  "cells": [
    {
      "cell_type": "markdown",
      "metadata": {
        "id": "view-in-github",
        "colab_type": "text"
      },
      "source": [
        "<a href=\"https://colab.research.google.com/github/sub-rat/3-MONTHS-ON-MachineLearning/blob/master/code/week4/NMFPractise.ipynb\" target=\"_parent\"><img src=\"https://colab.research.google.com/assets/colab-badge.svg\" alt=\"Open In Colab\"/></a>"
      ]
    },
    {
      "cell_type": "code",
      "metadata": {
        "id": "lUZwSg4DY_so",
        "colab_type": "code",
        "colab": {}
      },
      "source": [
        "import numpy as np\n",
        "from sklearn.datasets import fetch_20newsgroups\n",
        "from sklearn.feature_extraction.text import TfidfVectorizer\n",
        "from sklearn.decomposition import NMF"
      ],
      "execution_count": 0,
      "outputs": []
    },
    {
      "cell_type": "code",
      "metadata": {
        "id": "POa75Xg6ZvCA",
        "colab_type": "code",
        "colab": {}
      },
      "source": [
        "data = fetch_20newsgroups(remove=('headers','footers','quotes')).data"
      ],
      "execution_count": 0,
      "outputs": []
    },
    {
      "cell_type": "code",
      "metadata": {
        "id": "3J3UW2B8aByM",
        "colab_type": "code",
        "colab": {
          "base_uri": "https://localhost:8080/",
          "height": 156
        },
        "outputId": "1a6ff2cc-483b-40b5-8c01-00f92f863094"
      },
      "source": [
        "print(data[0])"
      ],
      "execution_count": 17,
      "outputs": [
        {
          "output_type": "stream",
          "text": [
            "I was wondering if anyone out there could enlighten me on this car I saw\n",
            "the other day. It was a 2-door sports car, looked to be from the late 60s/\n",
            "early 70s. It was called a Bricklin. The doors were really small. In addition,\n",
            "the front bumper was separate from the rest of the body. This is \n",
            "all I know. If anyone can tellme a model name, engine specs, years\n",
            "of production, where this car is made, history, or whatever info you\n",
            "have on this funky looking car, please e-mail.\n"
          ],
          "name": "stdout"
        }
      ]
    },
    {
      "cell_type": "code",
      "metadata": {
        "id": "LB0Z2c5maKuq",
        "colab_type": "code",
        "colab": {}
      },
      "source": [
        "vectorizer = TfidfVectorizer(max_features=2000,min_df=10, stop_words='english')\n",
        "X = vectorizer.fit_transform(data)"
      ],
      "execution_count": 0,
      "outputs": []
    },
    {
      "cell_type": "code",
      "metadata": {
        "id": "zIszfR5QbhHM",
        "colab_type": "code",
        "colab": {
          "base_uri": "https://localhost:8080/",
          "height": 306
        },
        "outputId": "c81f86f4-5399-49a2-f1cc-ef5c528df4ed"
      },
      "source": [
        "print(X[1000])"
      ],
      "execution_count": 32,
      "outputs": [
        {
          "output_type": "stream",
          "text": [
            "  (0, 289)\t0.27719082265443357\n",
            "  (0, 1025)\t0.2530604982833933\n",
            "  (0, 1209)\t0.25749763920958885\n",
            "  (0, 630)\t0.4577301261927765\n",
            "  (0, 1702)\t0.2146453981136446\n",
            "  (0, 1585)\t0.20282201227182453\n",
            "  (0, 1627)\t0.3776252464105921\n",
            "  (0, 1862)\t0.17882684647511962\n",
            "  (0, 835)\t0.1679354049312578\n",
            "  (0, 631)\t0.2371662599488678\n",
            "  (0, 1909)\t0.20465672402635457\n",
            "  (0, 1396)\t0.18412073696717635\n",
            "  (0, 661)\t0.19760940294035018\n",
            "  (0, 1509)\t0.2199930280460382\n",
            "  (0, 620)\t0.12194694505788398\n",
            "  (0, 204)\t0.20945219762562764\n",
            "  (0, 1009)\t0.12284869354185934\n"
          ],
          "name": "stdout"
        }
      ]
    },
    {
      "cell_type": "code",
      "metadata": {
        "id": "dsvC4mlWbn3_",
        "colab_type": "code",
        "colab": {}
      },
      "source": [
        "idx_to_word = np.array(vectorizer.get_feature_names())"
      ],
      "execution_count": 0,
      "outputs": []
    },
    {
      "cell_type": "code",
      "metadata": {
        "id": "DWftl5T9cERe",
        "colab_type": "code",
        "colab": {
          "base_uri": "https://localhost:8080/",
          "height": 34
        },
        "outputId": "0af1cbbf-5188-4775-b279-c63f2e7fdcbe"
      },
      "source": [
        "print(idx_to_word[1000:1010])"
      ],
      "execution_count": 28,
      "outputs": [
        {
          "output_type": "stream",
          "text": [
            "['kill' 'killed' 'killing' 'kind' 'king' 'kings' 'km' 'kn' 'knew' 'know']\n"
          ],
          "name": "stdout"
        }
      ]
    },
    {
      "cell_type": "code",
      "metadata": {
        "id": "-fQOC7rKcfHH",
        "colab_type": "code",
        "colab": {}
      },
      "source": [
        "nmf = NMF(n_components=20, solver=\"mu\")\n",
        "W = nmf.fit_transform(X)\n",
        "H = nmf.components_"
      ],
      "execution_count": 0,
      "outputs": []
    },
    {
      "cell_type": "code",
      "metadata": {
        "id": "XmGzZra1dlLt",
        "colab_type": "code",
        "colab": {
          "base_uri": "https://localhost:8080/",
          "height": 377
        },
        "outputId": "50e966bc-6eec-4a4a-a8f9-fe0b9d504679"
      },
      "source": [
        "for i , topic in enumerate(H):\n",
        "  print(\"Topic {}: {}\".format(i+1,\",\".join([str(X) for X in idx_to_word[topic.argsort()[-10:]]])))"
      ],
      "execution_count": 34,
      "outputs": [
        {
          "output_type": "stream",
          "text": [
            "Topic 1: make,way,say,really,said,right,did,good,people,time\n",
            "Topic 2: appreciated,email,information,help,info,looking,hi,advance,mail,thanks\n",
            "Topic 3: lord,church,christians,christian,believe,faith,christ,bible,jesus,god\n",
            "Topic 4: algorithm,public,use,escrow,government,keys,clipper,encryption,chip,key\n",
            "Topic 5: mac,cd,floppy,controller,ide,hard,drives,disk,scsi,drive\n",
            "Topic 6: 15,20,price,condition,offer,shipping,10,new,sale,00\n",
            "Topic 7: directory,using,ms,version,running,program,files,dos,file,windows\n",
            "Topic 8: teams,win,hockey,play,players,season,year,games,team,game\n",
            "Topic 9: pub,cc,ftp,university,cs,soon,banks,gordon,pitt,edu\n",
            "Topic 10: oil,new,speed,dealer,miles,good,engine,bike,cars,car\n",
            "Topic 11: memory,color,driver,bus,vga,cards,drivers,monitor,video,card\n",
            "Topic 12: ftp,ve,work,doesn,help,program,mean,anybody,know,does\n",
            "Topic 13: guns,let,oh,gun,want,government,think,know,people,don\n",
            "Topic 14: recently,months,couple,yeah,just,tried,heard,seen,got,ve\n",
            "Topic 15: sure,listen,wanted,thought,mean,oh,ll,new,wondering,just\n",
            "Topic 16: need,sell,make,lot,look,sound,looks,use,sounds,like\n",
            "Topic 17: jim,email,sun,address,bob,internet,dave,article,list,com\n",
            "Topic 18: display,widget,manager,server,motif,using,application,problem,use,window\n",
            "Topic 19: does,year,shuttle,gov,lot,launch,science,nasa,space,think\n",
            "Topic 20: state,land,war,peace,arabs,jewish,arab,jews,israeli,israel\n"
          ],
          "name": "stdout"
        }
      ]
    },
    {
      "cell_type": "code",
      "metadata": {
        "id": "BqL-O8WXeLKn",
        "colab_type": "code",
        "colab": {}
      },
      "source": [
        ""
      ],
      "execution_count": 0,
      "outputs": []
    }
  ]
}