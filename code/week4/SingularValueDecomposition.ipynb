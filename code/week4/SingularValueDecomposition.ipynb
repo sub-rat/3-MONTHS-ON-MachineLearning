{
  "nbformat": 4,
  "nbformat_minor": 0,
  "metadata": {
    "colab": {
      "name": "SingularValueDecomposition.ipynb",
      "provenance": [],
      "authorship_tag": "ABX9TyOb8MDuTbutmIhFBGeQMLQ1",
      "include_colab_link": true
    },
    "kernelspec": {
      "name": "python3",
      "display_name": "Python 3"
    }
  },
  "cells": [
    {
      "cell_type": "markdown",
      "metadata": {
        "id": "view-in-github",
        "colab_type": "text"
      },
      "source": [
        "<a href=\"https://colab.research.google.com/github/sub-rat/3-MONTHS-ON-MachineLearning/blob/master/code/week4/SingularValueDecomposition.ipynb\" target=\"_parent\"><img src=\"https://colab.research.google.com/assets/colab-badge.svg\" alt=\"Open In Colab\"/></a>"
      ]
    },
    {
      "cell_type": "code",
      "metadata": {
        "id": "wmpDTdWvDDgC",
        "colab_type": "code",
        "colab": {
          "base_uri": "https://localhost:8080/",
          "height": 68
        },
        "outputId": "ca19f8f5-db5d-4b09-9d52-8ceab586f32d"
      },
      "source": [
        "from numpy import array\n",
        "from scipy.linalg import svd\n",
        "\n",
        "#define a matrix\n",
        "A = array([[1, 2], [3, 4], [5, 6]])\n",
        "print(A)"
      ],
      "execution_count": 1,
      "outputs": [
        {
          "output_type": "stream",
          "text": [
            "[[1 2]\n",
            " [3 4]\n",
            " [5 6]]\n"
          ],
          "name": "stdout"
        }
      ]
    },
    {
      "cell_type": "code",
      "metadata": {
        "id": "YV0ouanHDj7y",
        "colab_type": "code",
        "colab": {
          "base_uri": "https://localhost:8080/",
          "height": 119
        },
        "outputId": "ef6fc826-fca3-44ca-ab5c-b05311fa6376"
      },
      "source": [
        "U, s, VT = svd(A)\n",
        "print(U)\n",
        "print(s)\n",
        "print(VT)"
      ],
      "execution_count": 2,
      "outputs": [
        {
          "output_type": "stream",
          "text": [
            "[[-0.2298477   0.88346102  0.40824829]\n",
            " [-0.52474482  0.24078249 -0.81649658]\n",
            " [-0.81964194 -0.40189603  0.40824829]]\n",
            "[9.52551809 0.51430058]\n",
            "[[-0.61962948 -0.78489445]\n",
            " [-0.78489445  0.61962948]]\n"
          ],
          "name": "stdout"
        }
      ]
    },
    {
      "cell_type": "code",
      "metadata": {
        "id": "0Zo2nIvwDoA9",
        "colab_type": "code",
        "colab": {
          "base_uri": "https://localhost:8080/",
          "height": 119
        },
        "outputId": "4c26b02d-bd96-488e-b270-2924b2e97ef0"
      },
      "source": [
        "from numpy import array\n",
        "from numpy import diag\n",
        "from numpy import dot\n",
        "from numpy import zeros\n",
        "from scipy.linalg import svd\n",
        "# define a matrix\n",
        "A = array([[1, 2], [3, 4], [5, 6]])\n",
        "print(A)\n",
        "# Singular-value decomposition\n",
        "U, s, VT = svd(A)\n",
        "# create m x n Sigma matrix\n",
        "Sigma = zeros((A.shape[0], A.shape[1]))\n",
        "# populate Sigma with n x n diagonal matrix\n",
        "Sigma[:A.shape[1], :A.shape[1]] = diag(s)\n",
        "# reconstruct matrix\n",
        "B = U.dot(Sigma.dot(VT))\n",
        "print(B)"
      ],
      "execution_count": 3,
      "outputs": [
        {
          "output_type": "stream",
          "text": [
            "[[1 2]\n",
            " [3 4]\n",
            " [5 6]]\n",
            "[[1. 2.]\n",
            " [3. 4.]\n",
            " [5. 6.]]\n"
          ],
          "name": "stdout"
        }
      ]
    },
    {
      "cell_type": "code",
      "metadata": {
        "id": "FnyDwxqjEN-T",
        "colab_type": "code",
        "colab": {
          "base_uri": "https://localhost:8080/",
          "height": 119
        },
        "outputId": "c9e88e31-c930-4555-a21a-570f1ec48127"
      },
      "source": [
        "# Reconstruct SVD\n",
        "from numpy import array\n",
        "from numpy import diag\n",
        "from numpy import dot\n",
        "from scipy.linalg import svd\n",
        "# define a matrix\n",
        "A = array([[1, 2, 3], [4, 5, 6], [7, 8, 9]])\n",
        "print(A)\n",
        "# Singular-value decomposition\n",
        "U, s, VT = svd(A)\n",
        "# create n x n Sigma matrix\n",
        "Sigma = diag(s)\n",
        "# reconstruct matrix\n",
        "B = U.dot(Sigma.dot(VT))\n",
        "print(B)"
      ],
      "execution_count": 5,
      "outputs": [
        {
          "output_type": "stream",
          "text": [
            "[[1 2 3]\n",
            " [4 5 6]\n",
            " [7 8 9]]\n",
            "[[1. 2. 3.]\n",
            " [4. 5. 6.]\n",
            " [7. 8. 9.]]\n"
          ],
          "name": "stdout"
        }
      ]
    },
    {
      "cell_type": "code",
      "metadata": {
        "id": "RizkJVGaEYEC",
        "colab_type": "code",
        "colab": {}
      },
      "source": [
        ""
      ],
      "execution_count": 0,
      "outputs": []
    }
  ]
}