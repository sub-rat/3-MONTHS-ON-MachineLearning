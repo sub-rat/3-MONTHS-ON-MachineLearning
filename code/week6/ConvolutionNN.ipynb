{
  "nbformat": 4,
  "nbformat_minor": 0,
  "metadata": {
    "colab": {
      "name": "ConvolutionNN.ipynb",
      "provenance": [],
      "collapsed_sections": [],
      "authorship_tag": "ABX9TyMPcESjznzSvcKkDRnwvFdl",
      "include_colab_link": true
    },
    "kernelspec": {
      "name": "python3",
      "display_name": "Python 3"
    },
    "accelerator": "TPU"
  },
  "cells": [
    {
      "cell_type": "markdown",
      "metadata": {
        "id": "view-in-github",
        "colab_type": "text"
      },
      "source": [
        "<a href=\"https://colab.research.google.com/github/sub-rat/3-MONTHS-ON-MachineLearning/blob/master/code/week6/ConvolutionNN.ipynb\" target=\"_parent\"><img src=\"https://colab.research.google.com/assets/colab-badge.svg\" alt=\"Open In Colab\"/></a>"
      ]
    },
    {
      "cell_type": "code",
      "metadata": {
        "id": "4KVon32hn120",
        "colab_type": "code",
        "colab": {
          "base_uri": "https://localhost:8080/",
          "height": 190
        },
        "outputId": "703d341b-d594-4556-e5ce-a5f3d0d2177d"
      },
      "source": [
        "%tensorflow_version 2.x \n",
        "from keras.datasets import fashion_mnist\n",
        "(train_X, train_Y), (test_X,test_Y) = fashion_mnist.load_data()"
      ],
      "execution_count": 1,
      "outputs": [
        {
          "output_type": "stream",
          "text": [
            "Using TensorFlow backend.\n"
          ],
          "name": "stderr"
        },
        {
          "output_type": "stream",
          "text": [
            "Downloading data from http://fashion-mnist.s3-website.eu-central-1.amazonaws.com/train-labels-idx1-ubyte.gz\n",
            "32768/29515 [=================================] - 0s 3us/step\n",
            "Downloading data from http://fashion-mnist.s3-website.eu-central-1.amazonaws.com/train-images-idx3-ubyte.gz\n",
            "26427392/26421880 [==============================] - 2s 0us/step\n",
            "Downloading data from http://fashion-mnist.s3-website.eu-central-1.amazonaws.com/t10k-labels-idx1-ubyte.gz\n",
            "8192/5148 [===============================================] - 0s 0us/step\n",
            "Downloading data from http://fashion-mnist.s3-website.eu-central-1.amazonaws.com/t10k-images-idx3-ubyte.gz\n",
            "4423680/4422102 [==============================] - 1s 0us/step\n"
          ],
          "name": "stdout"
        }
      ]
    },
    {
      "cell_type": "markdown",
      "metadata": {
        "id": "KkFWh2mGqsWk",
        "colab_type": "text"
      },
      "source": [
        "# Analyze the Data"
      ]
    },
    {
      "cell_type": "code",
      "metadata": {
        "id": "Nb0KiskOoV7G",
        "colab_type": "code",
        "colab": {
          "base_uri": "https://localhost:8080/",
          "height": 51
        },
        "outputId": "8bb5c0b6-ea21-4542-f6cd-f6bc98028003"
      },
      "source": [
        "import numpy as np\n",
        "from keras.utils import to_categorical\n",
        "import matplotlib.pyplot as plt\n",
        "%matplotlib inline\n",
        "print('Training data shape:', train_X.shape, train_Y.shape)\n",
        "print('Testing data shape:', test_X.shape, test_Y.shape)"
      ],
      "execution_count": 2,
      "outputs": [
        {
          "output_type": "stream",
          "text": [
            "Training data shape: (60000, 28, 28) (60000,)\n",
            "Testing data shape: (10000, 28, 28) (10000,)\n"
          ],
          "name": "stdout"
        }
      ]
    },
    {
      "cell_type": "code",
      "metadata": {
        "id": "uECyWJgqo10Q",
        "colab_type": "code",
        "colab": {
          "base_uri": "https://localhost:8080/",
          "height": 51
        },
        "outputId": "ed3c1fb3-fe40-42b4-d8a3-a6a11420df4c"
      },
      "source": [
        "# find the unique numbers from the train labels\n",
        "classes = np.unique(train_Y)\n",
        "nClasses = len(classes)\n",
        "print('Total number of outputs:', nClasses)\n",
        "print('Output classes:', classes)"
      ],
      "execution_count": 3,
      "outputs": [
        {
          "output_type": "stream",
          "text": [
            "Total number of outputs: 10\n",
            "Output classes: [0 1 2 3 4 5 6 7 8 9]\n"
          ],
          "name": "stdout"
        }
      ]
    },
    {
      "cell_type": "code",
      "metadata": {
        "id": "0f0xCbpLrJ-i",
        "colab_type": "code",
        "colab": {
          "base_uri": "https://localhost:8080/",
          "height": 208
        },
        "outputId": "746f6ef9-d54d-406a-f654-80c5cd514b0a"
      },
      "source": [
        "plt.figure(figsize=[5,5])\n",
        "\n",
        "#display the first image in training data\n",
        "plt.subplot(121)\n",
        "plt.imshow(train_X[0,:,:], cmap='gray')\n",
        "plt.title(\"Ground Truth: {}\".format(train_Y[0]))\n",
        "\n",
        "\n",
        "#displaying the first image in test dataset\n",
        "plt.subplot(122)\n",
        "plt.imshow(test_X[0,:,:], cmap='gray')\n",
        "plt.title(\"Ground Truth: {}\".format(test_Y[0]))"
      ],
      "execution_count": 4,
      "outputs": [
        {
          "output_type": "execute_result",
          "data": {
            "text/plain": [
              "Text(0.5, 1.0, 'Ground Truth: 9')"
            ]
          },
          "metadata": {
            "tags": []
          },
          "execution_count": 4
        },
        {
          "output_type": "display_data",
          "data": {
            "image/png": "[encoded data removed]",
            "text/plain": [
              "<Figure size 360x360 with 2 Axes>"
            ]
          },
          "metadata": {
            "tags": [],
            "needs_background": "light"
          }
        }
      ]
    },
    {
      "cell_type": "markdown",
      "metadata": {
        "id": "2bj8dxU3tnOe",
        "colab_type": "text"
      },
      "source": [
        "# Data preprocessing\n"
      ]
    },
    {
      "cell_type": "code",
      "metadata": {
        "id": "aZSOg4dPsRDG",
        "colab_type": "code",
        "colab": {
          "base_uri": "https://localhost:8080/",
          "height": 34
        },
        "outputId": "e5c4a34c-0867-4d27-8a8b-830c47ba0627"
      },
      "source": [
        "train_X = train_X.reshape(-1,28,28,1)\n",
        "test_X = test_X.reshape(-1,28,28,1)\n",
        "train_X.shape, test_X.shape"
      ],
      "execution_count": 5,
      "outputs": [
        {
          "output_type": "execute_result",
          "data": {
            "text/plain": [
              "((60000, 28, 28, 1), (10000, 28, 28, 1))"
            ]
          },
          "metadata": {
            "tags": []
          },
          "execution_count": 5
        }
      ]
    },
    {
      "cell_type": "code",
      "metadata": {
        "id": "dKceung5vJbU",
        "colab_type": "code",
        "colab": {}
      },
      "source": [
        "train_X = train_X.astype('float32')\n",
        "test_X = test_X.astype('float32')\n",
        "train_X = train_X/255.\n",
        "test_X = test_X/255."
      ],
      "execution_count": 0,
      "outputs": []
    },
    {
      "cell_type": "code",
      "metadata": {
        "id": "JLWdYrbNwVx8",
        "colab_type": "code",
        "colab": {
          "base_uri": "https://localhost:8080/",
          "height": 51
        },
        "outputId": "e8b1fb8e-3bab-4ba1-e8eb-30260ee5bfe0"
      },
      "source": [
        "#one hot encoding with keras.utils\n",
        "train_Y_one_hot = to_categorical(train_Y)\n",
        "test_Y_one_hot = to_categorical(test_Y)\n",
        "\n",
        "#displaying the change for category label using one-hot encoding\n",
        "print('Original label:', train_Y[0])\n",
        "print('After conversion to one-hot', train_Y_one_hot[0])"
      ],
      "execution_count": 7,
      "outputs": [
        {
          "output_type": "stream",
          "text": [
            "Original label: 9\n",
            "After conversion to one-hot [0. 0. 0. 0. 0. 0. 0. 0. 0. 1.]\n"
          ],
          "name": "stdout"
        }
      ]
    },
    {
      "cell_type": "code",
      "metadata": {
        "id": "XLt42sfsxO_i",
        "colab_type": "code",
        "colab": {
          "base_uri": "https://localhost:8080/",
          "height": 34
        },
        "outputId": "1d6cd907-a9d6-401c-f786-81f6e7777632"
      },
      "source": [
        "from sklearn.model_selection import train_test_split\n",
        "train_X,valid_X,train_label,valid_label = train_test_split(train_X, train_Y_one_hot, test_size=0.2, random_state=13)\n",
        "train_X.shape,valid_X.shape,train_label.shape,valid_label.shape"
      ],
      "execution_count": 8,
      "outputs": [
        {
          "output_type": "execute_result",
          "data": {
            "text/plain": [
              "((48000, 28, 28, 1), (12000, 28, 28, 1), (48000, 10), (12000, 10))"
            ]
          },
          "metadata": {
            "tags": []
          },
          "execution_count": 8
        }
      ]
    },
    {
      "cell_type": "markdown",
      "metadata": {
        "id": "kvgXoqPUzMLC",
        "colab_type": "text"
      },
      "source": [
        "# Model The Data"
      ]
    },
    {
      "cell_type": "code",
      "metadata": {
        "id": "D9EmAWaty8xQ",
        "colab_type": "code",
        "colab": {}
      },
      "source": [
        "import keras\n",
        "from keras.models import Sequential,Input,Model\n",
        "from keras.layers import Dense, Dropout, Flatten\n",
        "from keras.layers import Conv2D,MaxPooling2D\n",
        "from keras.layers.normalization import BatchNormalization\n",
        "from keras.layers.advanced_activations import LeakyReLU"
      ],
      "execution_count": 0,
      "outputs": []
    },
    {
      "cell_type": "code",
      "metadata": {
        "id": "zf6hUj-U6D83",
        "colab_type": "code",
        "colab": {}
      },
      "source": [
        "batch_size = 64\n",
        "epochs = 20\n",
        "num_classes =10"
      ],
      "execution_count": 0,
      "outputs": []
    },
    {
      "cell_type": "code",
      "metadata": {
        "id": "4CYX8uGW6arr",
        "colab_type": "code",
        "colab": {}
      },
      "source": [
        "fashion_model = Sequential()\n",
        "fashion_model.add(Conv2D(32, kernel_size=(3, 3),activation='linear',input_shape=(28,28,1),padding='same'))\n",
        "fashion_model.add(LeakyReLU(alpha=0.1))\n",
        "fashion_model.add(MaxPooling2D((2, 2),padding='same'))\n",
        "fashion_model.add(Conv2D(64, (3, 3), activation='linear',padding='same'))\n",
        "fashion_model.add(LeakyReLU(alpha=0.1))\n",
        "fashion_model.add(MaxPooling2D(pool_size=(2, 2),padding='same'))\n",
        "fashion_model.add(Conv2D(128, (3, 3), activation='linear',padding='same'))\n",
        "fashion_model.add(LeakyReLU(alpha=0.1))                  \n",
        "fashion_model.add(MaxPooling2D(pool_size=(2, 2),padding='same'))\n",
        "fashion_model.add(Flatten())\n",
        "fashion_model.add(Dense(128, activation='linear'))\n",
        "fashion_model.add(LeakyReLU(alpha=0.1))                  \n",
        "fashion_model.add(Dense(num_classes, activation='softmax'))"
      ],
      "execution_count": 0,
      "outputs": []
    },
    {
      "cell_type": "markdown",
      "metadata": {
        "id": "WW3NfqB1FMAp",
        "colab_type": "text"
      },
      "source": [
        "# compile the model\n"
      ]
    },
    {
      "cell_type": "code",
      "metadata": {
        "id": "Pf6KmZH8Eipn",
        "colab_type": "code",
        "colab": {
          "base_uri": "https://localhost:8080/",
          "height": 595
        },
        "outputId": "9b26a5fc-5bc4-4406-8f00-770819a4d95a"
      },
      "source": [
        "fashion_model.compile(loss=keras.losses.categorical_crossentropy, optimizer=keras.optimizers.Adam(),metrics=['accuracy'])\n",
        "fashion_model.summary()"
      ],
      "execution_count": 12,
      "outputs": [
        {
          "output_type": "stream",
          "text": [
            "Model: \"sequential_1\"\n",
            "_________________________________________________________________\n",
            "Layer (type)                 Output Shape              Param #   \n",
            "=================================================================\n",
            "conv2d_1 (Conv2D)            (None, 28, 28, 32)        320       \n",
            "_________________________________________________________________\n",
            "leaky_re_lu_1 (LeakyReLU)    (None, 28, 28, 32)        0         \n",
            "_________________________________________________________________\n",
            "max_pooling2d_1 (MaxPooling2 (None, 14, 14, 32)        0         \n",
            "_________________________________________________________________\n",
            "conv2d_2 (Conv2D)            (None, 14, 14, 64)        18496     \n",
            "_________________________________________________________________\n",
            "leaky_re_lu_2 (LeakyReLU)    (None, 14, 14, 64)        0         \n",
            "_________________________________________________________________\n",
            "max_pooling2d_2 (MaxPooling2 (None, 7, 7, 64)          0         \n",
            "_________________________________________________________________\n",
            "conv2d_3 (Conv2D)            (None, 7, 7, 128)         73856     \n",
            "_________________________________________________________________\n",
            "leaky_re_lu_3 (LeakyReLU)    (None, 7, 7, 128)         0         \n",
            "_________________________________________________________________\n",
            "max_pooling2d_3 (MaxPooling2 (None, 4, 4, 128)         0         \n",
            "_________________________________________________________________\n",
            "flatten_1 (Flatten)          (None, 2048)              0         \n",
            "_________________________________________________________________\n",
            "dense_1 (Dense)              (None, 128)               262272    \n",
            "_________________________________________________________________\n",
            "leaky_re_lu_4 (LeakyReLU)    (None, 128)               0         \n",
            "_________________________________________________________________\n",
            "dense_2 (Dense)              (None, 10)                1290      \n",
            "=================================================================\n",
            "Total params: 356,234\n",
            "Trainable params: 356,234\n",
            "Non-trainable params: 0\n",
            "_________________________________________________________________\n"
          ],
          "name": "stdout"
        }
      ]
    },
    {
      "cell_type": "code",
      "metadata": {
        "id": "t607mmGoFy-I",
        "colab_type": "code",
        "colab": {
          "base_uri": "https://localhost:8080/",
          "height": 734
        },
        "outputId": "25e77439-a7c2-48ce-b0ab-537c0f3e2e7a"
      },
      "source": [
        "fashion_train = fashion_model.fit(train_X,\n",
        "                                  train_label,\n",
        "                                  batch_size=batch_size,\n",
        "                                  epochs=epochs,\n",
        "                                  verbose=1,\n",
        "                                  validation_data=(valid_X, valid_label))"
      ],
      "execution_count": 13,
      "outputs": [
        {
          "output_type": "stream",
          "text": [
            "Train on 48000 samples, validate on 12000 samples\n",
            "Epoch 1/20\n",
            "48000/48000 [==============================] - 85s 2ms/step - loss: 0.4708 - accuracy: 0.8292 - val_loss: 0.3417 - val_accuracy: 0.8784\n",
            "Epoch 2/20\n",
            "48000/48000 [==============================] - 85s 2ms/step - loss: 0.2932 - accuracy: 0.8932 - val_loss: 0.2884 - val_accuracy: 0.8938\n",
            "Epoch 3/20\n",
            "48000/48000 [==============================] - 84s 2ms/step - loss: 0.2474 - accuracy: 0.9087 - val_loss: 0.2630 - val_accuracy: 0.9043\n",
            "Epoch 4/20\n",
            "48000/48000 [==============================] - 85s 2ms/step - loss: 0.2161 - accuracy: 0.9204 - val_loss: 0.2425 - val_accuracy: 0.9136\n",
            "Epoch 5/20\n",
            "48000/48000 [==============================] - 85s 2ms/step - loss: 0.1879 - accuracy: 0.9306 - val_loss: 0.2229 - val_accuracy: 0.9201\n",
            "Epoch 6/20\n",
            "48000/48000 [==============================] - 92s 2ms/step - loss: 0.1667 - accuracy: 0.9381 - val_loss: 0.2218 - val_accuracy: 0.9212\n",
            "Epoch 7/20\n",
            "48000/48000 [==============================] - 87s 2ms/step - loss: 0.1459 - accuracy: 0.9460 - val_loss: 0.2271 - val_accuracy: 0.9203\n",
            "Epoch 8/20\n",
            "48000/48000 [==============================] - 86s 2ms/step - loss: 0.1242 - accuracy: 0.9531 - val_loss: 0.2545 - val_accuracy: 0.9180\n",
            "Epoch 9/20\n",
            "48000/48000 [==============================] - 86s 2ms/step - loss: 0.1083 - accuracy: 0.9594 - val_loss: 0.2722 - val_accuracy: 0.9193\n",
            "Epoch 10/20\n",
            "48000/48000 [==============================] - 86s 2ms/step - loss: 0.0926 - accuracy: 0.9661 - val_loss: 0.2533 - val_accuracy: 0.9220\n",
            "Epoch 11/20\n",
            "48000/48000 [==============================] - 85s 2ms/step - loss: 0.0784 - accuracy: 0.9707 - val_loss: 0.2933 - val_accuracy: 0.9208\n",
            "Epoch 12/20\n",
            "48000/48000 [==============================] - 86s 2ms/step - loss: 0.0662 - accuracy: 0.9759 - val_loss: 0.3082 - val_accuracy: 0.9222\n",
            "Epoch 13/20\n",
            "48000/48000 [==============================] - 93s 2ms/step - loss: 0.0595 - accuracy: 0.9781 - val_loss: 0.3431 - val_accuracy: 0.9138\n",
            "Epoch 14/20\n",
            "48000/48000 [==============================] - 86s 2ms/step - loss: 0.0503 - accuracy: 0.9812 - val_loss: 0.3574 - val_accuracy: 0.9171\n",
            "Epoch 15/20\n",
            "48000/48000 [==============================] - 86s 2ms/step - loss: 0.0452 - accuracy: 0.9834 - val_loss: 0.3960 - val_accuracy: 0.9172\n",
            "Epoch 16/20\n",
            "48000/48000 [==============================] - 86s 2ms/step - loss: 0.0433 - accuracy: 0.9847 - val_loss: 0.3740 - val_accuracy: 0.9201\n",
            "Epoch 17/20\n",
            "48000/48000 [==============================] - 85s 2ms/step - loss: 0.0376 - accuracy: 0.9859 - val_loss: 0.4264 - val_accuracy: 0.9201\n",
            "Epoch 18/20\n",
            "48000/48000 [==============================] - 85s 2ms/step - loss: 0.0322 - accuracy: 0.9877 - val_loss: 0.4265 - val_accuracy: 0.9232\n",
            "Epoch 19/20\n",
            "48000/48000 [==============================] - 85s 2ms/step - loss: 0.0341 - accuracy: 0.9879 - val_loss: 0.4196 - val_accuracy: 0.9201\n",
            "Epoch 20/20\n",
            "48000/48000 [==============================] - 85s 2ms/step - loss: 0.0256 - accuracy: 0.9906 - val_loss: 0.4696 - val_accuracy: 0.9156\n"
          ],
          "name": "stdout"
        }
      ]
    },
    {
      "cell_type": "code",
      "metadata": {
        "id": "zMl8tBkMGfrH",
        "colab_type": "code",
        "colab": {
          "base_uri": "https://localhost:8080/",
          "height": 51
        },
        "outputId": "cd8c9054-0e4c-465e-d43d-42332a5de1a4"
      },
      "source": [
        "test_eval = fashion_model.evaluate(test_X, test_Y_one_hot, verbose=0)\n",
        "print('Test loss:', test_eval[0])\n",
        "print('Test accuracy:', test_eval[1])"
      ],
      "execution_count": 14,
      "outputs": [
        {
          "output_type": "stream",
          "text": [
            "Test loss: 0.4703861451685429\n",
            "Test accuracy: 0.9160000085830688\n"
          ],
          "name": "stdout"
        }
      ]
    },
    {
      "cell_type": "code",
      "metadata": {
        "id": "Oe1_2E6fJiCT",
        "colab_type": "code",
        "colab": {
          "base_uri": "https://localhost:8080/",
          "height": 545
        },
        "outputId": "a0d0df8f-c855-434a-df79-943a8c4c88c2"
      },
      "source": [
        "accuracy = fashion_train.history['accuracy']\n",
        "val_accuracy = fashion_train.history['val_accuracy']\n",
        "loss = fashion_train.history['loss']\n",
        "val_loss = fashion_train.history['val_loss']\n",
        "epochs = range(len(accuracy))\n",
        "plt.plot(epochs, accuracy, 'bo', label='Training accuracy')\n",
        "plt.plot(epochs, val_accuracy, 'b', label='Validation accuracy')\n",
        "plt.title('Training and validation accuracy')\n",
        "plt.legend()\n",
        "plt.figure()\n",
        "plt.plot(epochs, loss, 'bo', label='Training loss')\n",
        "plt.plot(epochs, val_loss, 'b', label='Validation loss')\n",
        "plt.title('Training and validation loss')\n",
        "plt.legend()\n",
        "plt.show()"
      ],
      "execution_count": 22,
      "outputs": [
        {
          "output_type": "display_data",
          "data": {
            "image/png": "[encoded data removed]",
            "text/plain": [
              "<Figure size 432x288 with 1 Axes>"
            ]
          },
          "metadata": {
            "tags": [],
            "needs_background": "light"
          }
        },
        {
          "output_type": "display_data",
          "data": {
            "image/png": "[encoded data removed]",
            "text/plain": [
              "<Figure size 432x288 with 1 Axes>"
            ]
          },
          "metadata": {
            "tags": [],
            "needs_background": "light"
          }
        }
      ]
    },
    {
      "cell_type": "code",
      "metadata": {
        "id": "RTJZucSvMD3H",
        "colab_type": "code",
        "colab": {}
      },
      "source": [
        ""
      ],
      "execution_count": 0,
      "outputs": []
    },
    {
      "cell_type": "code",
      "metadata": {
        "id": "GGyf6iIdT4Gr",
        "colab_type": "code",
        "colab": {}
      },
      "source": [
        "batch_size = 64 \n",
        "epochs = 20 \n",
        "num_classes = 10"
      ],
      "execution_count": 0,
      "outputs": []
    },
    {
      "cell_type": "code",
      "metadata": {
        "id": "tzdEKQFUT9e0",
        "colab_type": "code",
        "colab": {}
      },
      "source": [
        "fashion_model = Sequential()\n",
        "fashion_model.add(Conv2D(32, kernel_size=(3, 3),activation='linear',padding='same',input_shape=(28,28,1)))\n",
        "fashion_model.add(LeakyReLU(alpha=0.1))\n",
        "fashion_model.add(MaxPooling2D((2, 2),padding='same'))\n",
        "fashion_model.add(Dropout(0.25))\n",
        "fashion_model.add(Conv2D(64, (3, 3), activation='linear',padding='same'))\n",
        "fashion_model.add(LeakyReLU(alpha=0.1))\n",
        "fashion_model.add(MaxPooling2D(pool_size=(2, 2),padding='same'))\n",
        "fashion_model.add(Dropout(0.25))\n",
        "fashion_model.add(Conv2D(128, (3, 3), activation='linear',padding='same'))\n",
        "fashion_model.add(LeakyReLU(alpha=0.1))                  \n",
        "fashion_model.add(MaxPooling2D(pool_size=(2, 2),padding='same'))\n",
        "fashion_model.add(Dropout(0.4))\n",
        "fashion_model.add(Flatten())\n",
        "fashion_model.add(Dense(128, activation='linear'))\n",
        "fashion_model.add(LeakyReLU(alpha=0.1))           \n",
        "fashion_model.add(Dropout(0.3))\n",
        "fashion_model.add(Dense(num_classes, activation='softmax'))"
      ],
      "execution_count": 0,
      "outputs": []
    },
    {
      "cell_type": "code",
      "metadata": {
        "id": "RJYkuX5oUM-0",
        "colab_type": "code",
        "colab": {
          "base_uri": "https://localhost:8080/",
          "height": 731
        },
        "outputId": "3c0e8383-98e7-4904-ee86-af6af99c1a7b"
      },
      "source": [
        "fashion_model.summary()"
      ],
      "execution_count": 25,
      "outputs": [
        {
          "output_type": "stream",
          "text": [
            "Model: \"sequential_3\"\n",
            "_________________________________________________________________\n",
            "Layer (type)                 Output Shape              Param #   \n",
            "=================================================================\n",
            "conv2d_7 (Conv2D)            (None, 28, 28, 32)        320       \n",
            "_________________________________________________________________\n",
            "leaky_re_lu_9 (LeakyReLU)    (None, 28, 28, 32)        0         \n",
            "_________________________________________________________________\n",
            "max_pooling2d_7 (MaxPooling2 (None, 14, 14, 32)        0         \n",
            "_________________________________________________________________\n",
            "dropout_5 (Dropout)          (None, 14, 14, 32)        0         \n",
            "_________________________________________________________________\n",
            "conv2d_8 (Conv2D)            (None, 14, 14, 64)        18496     \n",
            "_________________________________________________________________\n",
            "leaky_re_lu_10 (LeakyReLU)   (None, 14, 14, 64)        0         \n",
            "_________________________________________________________________\n",
            "max_pooling2d_8 (MaxPooling2 (None, 7, 7, 64)          0         \n",
            "_________________________________________________________________\n",
            "dropout_6 (Dropout)          (None, 7, 7, 64)          0         \n",
            "_________________________________________________________________\n",
            "conv2d_9 (Conv2D)            (None, 7, 7, 128)         73856     \n",
            "_________________________________________________________________\n",
            "leaky_re_lu_11 (LeakyReLU)   (None, 7, 7, 128)         0         \n",
            "_________________________________________________________________\n",
            "max_pooling2d_9 (MaxPooling2 (None, 4, 4, 128)         0         \n",
            "_________________________________________________________________\n",
            "dropout_7 (Dropout)          (None, 4, 4, 128)         0         \n",
            "_________________________________________________________________\n",
            "flatten_3 (Flatten)          (None, 2048)              0         \n",
            "_________________________________________________________________\n",
            "dense_5 (Dense)              (None, 128)               262272    \n",
            "_________________________________________________________________\n",
            "leaky_re_lu_12 (LeakyReLU)   (None, 128)               0         \n",
            "_________________________________________________________________\n",
            "dropout_8 (Dropout)          (None, 128)               0         \n",
            "_________________________________________________________________\n",
            "dense_6 (Dense)              (None, 10)                1290      \n",
            "=================================================================\n",
            "Total params: 356,234\n",
            "Trainable params: 356,234\n",
            "Non-trainable params: 0\n",
            "_________________________________________________________________\n"
          ],
          "name": "stdout"
        }
      ]
    },
    {
      "cell_type": "code",
      "metadata": {
        "id": "EEFhzJIHUOiS",
        "colab_type": "code",
        "colab": {}
      },
      "source": [
        "fashion_model.compile(loss=keras.losses.categorical_crossentropy,\n",
        "                      optimizer=keras.optimizers.Adam(),metrics=['accuracy'])"
      ],
      "execution_count": 0,
      "outputs": []
    },
    {
      "cell_type": "code",
      "metadata": {
        "id": "bA75yJzgUgv2",
        "colab_type": "code",
        "colab": {
          "base_uri": "https://localhost:8080/",
          "height": 734
        },
        "outputId": "21f4915b-f9af-4242-a42e-6287ad675db7"
      },
      "source": [
        "fashion_train_dropout = fashion_model.fit(train_X,\n",
        "                                          train_label,\n",
        "                                          batch_size=batch_size,\n",
        "                                          epochs=epochs,\n",
        "                                          verbose=1,\n",
        "                                          validation_data=(valid_X,valid_label))"
      ],
      "execution_count": 27,
      "outputs": [
        {
          "output_type": "stream",
          "text": [
            "Train on 48000 samples, validate on 12000 samples\n",
            "Epoch 1/20\n",
            "48000/48000 [==============================] - 93s 2ms/step - loss: 0.5920 - accuracy: 0.7803 - val_loss: 0.3785 - val_accuracy: 0.8593\n",
            "Epoch 2/20\n",
            "48000/48000 [==============================] - 93s 2ms/step - loss: 0.3749 - accuracy: 0.8628 - val_loss: 0.3096 - val_accuracy: 0.8852\n",
            "Epoch 3/20\n",
            "48000/48000 [==============================] - 94s 2ms/step - loss: 0.3275 - accuracy: 0.8784 - val_loss: 0.2888 - val_accuracy: 0.8907\n",
            "Epoch 4/20\n",
            "48000/48000 [==============================] - 94s 2ms/step - loss: 0.3008 - accuracy: 0.8875 - val_loss: 0.2595 - val_accuracy: 0.9039\n",
            "Epoch 5/20\n",
            "48000/48000 [==============================] - 95s 2ms/step - loss: 0.2847 - accuracy: 0.8921 - val_loss: 0.2678 - val_accuracy: 0.9005\n",
            "Epoch 6/20\n",
            "48000/48000 [==============================] - 95s 2ms/step - loss: 0.2687 - accuracy: 0.8987 - val_loss: 0.2461 - val_accuracy: 0.9076\n",
            "Epoch 7/20\n",
            "48000/48000 [==============================] - 94s 2ms/step - loss: 0.2570 - accuracy: 0.9039 - val_loss: 0.2517 - val_accuracy: 0.9052\n",
            "Epoch 8/20\n",
            "48000/48000 [==============================] - 94s 2ms/step - loss: 0.2493 - accuracy: 0.9075 - val_loss: 0.2387 - val_accuracy: 0.9130\n",
            "Epoch 9/20\n",
            "48000/48000 [==============================] - 94s 2ms/step - loss: 0.2407 - accuracy: 0.9088 - val_loss: 0.2242 - val_accuracy: 0.9158\n",
            "Epoch 10/20\n",
            "48000/48000 [==============================] - 94s 2ms/step - loss: 0.2344 - accuracy: 0.9122 - val_loss: 0.2234 - val_accuracy: 0.9163\n",
            "Epoch 11/20\n",
            "48000/48000 [==============================] - 94s 2ms/step - loss: 0.2287 - accuracy: 0.9131 - val_loss: 0.2212 - val_accuracy: 0.9192\n",
            "Epoch 12/20\n",
            "48000/48000 [==============================] - 94s 2ms/step - loss: 0.2235 - accuracy: 0.9156 - val_loss: 0.2134 - val_accuracy: 0.9211\n",
            "Epoch 13/20\n",
            "48000/48000 [==============================] - 95s 2ms/step - loss: 0.2188 - accuracy: 0.9186 - val_loss: 0.2271 - val_accuracy: 0.9176\n",
            "Epoch 14/20\n",
            "48000/48000 [==============================] - 94s 2ms/step - loss: 0.2177 - accuracy: 0.9184 - val_loss: 0.2175 - val_accuracy: 0.9203\n",
            "Epoch 15/20\n",
            "48000/48000 [==============================] - 94s 2ms/step - loss: 0.2119 - accuracy: 0.9199 - val_loss: 0.2178 - val_accuracy: 0.9221\n",
            "Epoch 16/20\n",
            "48000/48000 [==============================] - 94s 2ms/step - loss: 0.2071 - accuracy: 0.9220 - val_loss: 0.2123 - val_accuracy: 0.9229\n",
            "Epoch 17/20\n",
            "48000/48000 [==============================] - 93s 2ms/step - loss: 0.2062 - accuracy: 0.9230 - val_loss: 0.2137 - val_accuracy: 0.9249\n",
            "Epoch 18/20\n",
            "48000/48000 [==============================] - 92s 2ms/step - loss: 0.2000 - accuracy: 0.9250 - val_loss: 0.2143 - val_accuracy: 0.9225\n",
            "Epoch 19/20\n",
            "48000/48000 [==============================] - 93s 2ms/step - loss: 0.1986 - accuracy: 0.9236 - val_loss: 0.2081 - val_accuracy: 0.9249\n",
            "Epoch 20/20\n",
            "48000/48000 [==============================] - 96s 2ms/step - loss: 0.1971 - accuracy: 0.9255 - val_loss: 0.2135 - val_accuracy: 0.9240\n"
          ],
          "name": "stdout"
        }
      ]
    },
    {
      "cell_type": "code",
      "metadata": {
        "id": "BplNNWuFU5J9",
        "colab_type": "code",
        "colab": {}
      },
      "source": [
        "fashion_model.save(\"fashion_model_dropout.h5yp\")"
      ],
      "execution_count": 0,
      "outputs": []
    },
    {
      "cell_type": "markdown",
      "metadata": {
        "id": "djSUyKIHifTN",
        "colab_type": "text"
      },
      "source": [
        "# Model Evualation on Test data"
      ]
    },
    {
      "cell_type": "code",
      "metadata": {
        "id": "6eKzPR8MdEjn",
        "colab_type": "code",
        "colab": {
          "base_uri": "https://localhost:8080/",
          "height": 34
        },
        "outputId": "f582582c-8b1a-4228-dd1f-0e972d534c78"
      },
      "source": [
        "test_eval = fashion_model.evaluate(test_X,test_Y_one_hot,verbose=1)"
      ],
      "execution_count": 31,
      "outputs": [
        {
          "output_type": "stream",
          "text": [
            "10000/10000 [==============================] - 5s 550us/step\n"
          ],
          "name": "stdout"
        }
      ]
    },
    {
      "cell_type": "code",
      "metadata": {
        "id": "M2VIlXeViqRr",
        "colab_type": "code",
        "colab": {
          "base_uri": "https://localhost:8080/",
          "height": 51
        },
        "outputId": "b665d3fc-73c6-4a16-ffa8-bb84009f4fb7"
      },
      "source": [
        "print('Test loss:', test_eval[0])\n",
        "print('Test accuracy:', test_eval[1])"
      ],
      "execution_count": 32,
      "outputs": [
        {
          "output_type": "stream",
          "text": [
            "Test loss: 0.22854849315881728\n",
            "Test accuracy: 0.91839998960495\n"
          ],
          "name": "stdout"
        }
      ]
    },
    {
      "cell_type": "code",
      "metadata": {
        "id": "Veb25aJui2bh",
        "colab_type": "code",
        "colab": {
          "base_uri": "https://localhost:8080/",
          "height": 545
        },
        "outputId": "6dc0da7d-e8e8-4499-d501-392f31b9b147"
      },
      "source": [
        "accuracy = fashion_train_dropout.history['accuracy']\n",
        "val_accuracy = fashion_train_dropout.history['val_accuracy']\n",
        "loss = fashion_train_dropout.history['loss']\n",
        "val_loss = fashion_train_dropout.history['val_loss']\n",
        "epochs = range(len(accuracy))\n",
        "plt.plot(epochs,accuracy,'bo', label='Training accuracy')\n",
        "plt.plot(epochs, val_accuracy, 'b', label='Validation accuracy')\n",
        "plt.title('Training and validation accuracy')\n",
        "plt.legend()\n",
        "plt.figure()\n",
        "plt.plot(epochs,loss,'bo', label='Training loss')\n",
        "plt.plot(epochs, val_loss, 'b', label='Validation loss')\n",
        "plt.title('Training and validation loss')\n",
        "plt.legend()\n",
        "plt.show()\n"
      ],
      "execution_count": 33,
      "outputs": [
        {
          "output_type": "display_data",
          "data": {
            "image/png": "[encoded data removed]",
            "text/plain": [
              "<Figure size 432x288 with 1 Axes>"
            ]
          },
          "metadata": {
            "tags": [],
            "needs_background": "light"
          }
        },
        {
          "output_type": "display_data",
          "data": {
            "image/png": "[encoded data removed]",
            "text/plain": [
              "<Figure size 432x288 with 1 Axes>"
            ]
          },
          "metadata": {
            "tags": [],
            "needs_background": "light"
          }
        }
      ]
    },
    {
      "cell_type": "markdown",
      "metadata": {
        "id": "hBxbK3TakIj7",
        "colab_type": "text"
      },
      "source": [
        "# Predictions"
      ]
    },
    {
      "cell_type": "code",
      "metadata": {
        "id": "Ha9H7Oh7j8XN",
        "colab_type": "code",
        "colab": {}
      },
      "source": [
        "predicted_classes = fashion_model.predict(test_X)"
      ],
      "execution_count": 0,
      "outputs": []
    },
    {
      "cell_type": "code",
      "metadata": {
        "id": "X04JVEg2kZUr",
        "colab_type": "code",
        "colab": {
          "base_uri": "https://localhost:8080/",
          "height": 34
        },
        "outputId": "56b8e6c0-4be1-4919-d471-cf3642c1d7c5"
      },
      "source": [
        "predicted_classes = np.argmax(np.round(predicted_classes), axis=1)\n",
        "predicted_classes.shape, test_Y.shape"
      ],
      "execution_count": 35,
      "outputs": [
        {
          "output_type": "execute_result",
          "data": {
            "text/plain": [
              "((10000,), (10000,))"
            ]
          },
          "metadata": {
            "tags": []
          },
          "execution_count": 35
        }
      ]
    },
    {
      "cell_type": "code",
      "metadata": {
        "id": "fUhCRXo6kmlX",
        "colab_type": "code",
        "colab": {
          "base_uri": "https://localhost:8080/",
          "height": 314
        },
        "outputId": "ae21b291-afa8-448a-d090-fbb93308c358"
      },
      "source": [
        "correct = np.where(predicted_classes==test_Y)[0]\n",
        "print(\"Found %d correct labels\" % len(correct))\n",
        "\n",
        "for i, correct in enumerate(correct[:9]):\n",
        "  plt.subplot(3,3,i+1)\n",
        "  plt.imshow(test_X[correct].reshape(28,28), cmap='gray', interpolation='none')\n",
        "  plt.title(\"Predicted {}, class {}\".format(predicted_classes[correct],test_Y[correct]))\n",
        "  plt.tight_layout()"
      ],
      "execution_count": 37,
      "outputs": [
        {
          "output_type": "stream",
          "text": [
            "Found 9154 correct labels\n"
          ],
          "name": "stdout"
        },
        {
          "output_type": "display_data",
          "data": {
            "image/png": "[encoded data removed]",
            "text/plain": [
              "<Figure size 432x288 with 9 Axes>"
            ]
          },
          "metadata": {
            "tags": [],
            "needs_background": "light"
          }
        }
      ]
    },
    {
      "cell_type": "code",
      "metadata": {
        "id": "0C-ZigyVlF1T",
        "colab_type": "code",
        "colab": {
          "base_uri": "https://localhost:8080/",
          "height": 314
        },
        "outputId": "777cf84b-4b64-425b-9439-37f7581c26ad"
      },
      "source": [
        "incorrect = np.where(predicted_classes!= test_Y)[0]\n",
        "print(\"Found {} incorrect labels\".format(len(incorrect)))\n",
        "\n",
        "for i, incorrect in enumerate(incorrect[:9]):\n",
        "  plt.subplot(3,3,i+1)\n",
        "  plt.imshow(test_X[incorrect].reshape(28,28), cmap='gray', interpolation='none')\n",
        "  plt.title(\"Predicted {}, class {}\".format(predicted_classes[incorrect], test_Y[incorrect]))\n",
        "  plt.tight_layout()"
      ],
      "execution_count": 39,
      "outputs": [
        {
          "output_type": "stream",
          "text": [
            "Found 846 incorrect labels\n"
          ],
          "name": "stdout"
        },
        {
          "output_type": "display_data",
          "data": {
            "image/png": "[encoded data removed]",
            "text/plain": [
              "<Figure size 432x288 with 9 Axes>"
            ]
          },
          "metadata": {
            "tags": [],
            "needs_background": "light"
          }
        }
      ]
    },
    {
      "cell_type": "markdown",
      "metadata": {
        "id": "WBt6jf9GmyVm",
        "colab_type": "text"
      },
      "source": [
        "# Classification Report"
      ]
    },
    {
      "cell_type": "code",
      "metadata": {
        "id": "Vz7Hh1iIm0u8",
        "colab_type": "code",
        "colab": {
          "base_uri": "https://localhost:8080/",
          "height": 306
        },
        "outputId": "6bdb452f-1063-46d9-f146-a82fe199f044"
      },
      "source": [
        "from sklearn.metrics import classification_report\n",
        "target_names = [\"Class {}\".format(i) for i in range(num_classes)]\n",
        "print(classification_report(test_Y, predicted_classes, target_names=target_names))"
      ],
      "execution_count": 40,
      "outputs": [
        {
          "output_type": "stream",
          "text": [
            "              precision    recall  f1-score   support\n",
            "\n",
            "     Class 0       0.78      0.89      0.83      1000\n",
            "     Class 1       0.99      0.98      0.99      1000\n",
            "     Class 2       0.87      0.88      0.87      1000\n",
            "     Class 3       0.94      0.90      0.92      1000\n",
            "     Class 4       0.89      0.85      0.87      1000\n",
            "     Class 5       0.99      0.98      0.98      1000\n",
            "     Class 6       0.79      0.74      0.76      1000\n",
            "     Class 7       0.97      0.97      0.97      1000\n",
            "     Class 8       0.99      0.99      0.99      1000\n",
            "     Class 9       0.96      0.98      0.97      1000\n",
            "\n",
            "    accuracy                           0.92     10000\n",
            "   macro avg       0.92      0.92      0.92     10000\n",
            "weighted avg       0.92      0.92      0.92     10000\n",
            "\n"
          ],
          "name": "stdout"
        }
      ]
    },
    {
      "cell_type": "code",
      "metadata": {
        "id": "SYoyKLvYnJsX",
        "colab_type": "code",
        "colab": {}
      },
      "source": [
        ""
      ],
      "execution_count": 0,
      "outputs": []
    }
  ]
}